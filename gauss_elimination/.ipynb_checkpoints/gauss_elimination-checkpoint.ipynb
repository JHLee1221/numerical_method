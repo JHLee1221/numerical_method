{
 "cells": [
  {
   "cell_type": "code",
   "execution_count": 15,
   "id": "66ffdd9b-09a4-4898-87b3-d6c12ed82380",
   "metadata": {},
   "outputs": [],
   "source": [
    "import numpy as np\n",
    "import scipy as scp"
   ]
  },
  {
   "cell_type": "code",
   "execution_count": 16,
   "id": "2367d776-02f5-48cb-9a26-cf776e0aa28c",
   "metadata": {},
   "outputs": [],
   "source": [
    "def PrintEqs(A, b):\n",
    "    n = b.size\n",
    "    for i in range(n):\n",
    "        for j in range(n):\n",
    "            print(\"{0:10.3e} \".format(A[i][j]), end=\"   \")\n",
    "        print(\"|   {0:10.3e}\".format(b[i]))\n",
    "\n",
    "def PrintMat(A):\n",
    "    n, m =  A.shape\n",
    "    for i in range(n):\n",
    "        for j in range(m):\n",
    "            print(\"{0:10.3e} \".format(A[i][j]), end=\"\")\n",
    "        print(\"\")"
   ]
  },
  {
   "cell_type": "code",
   "execution_count": 27,
   "id": "1bc72d63-e4f4-41ce-8e69-d3f496e874cb",
   "metadata": {},
   "outputs": [],
   "source": [
    "def GaussElimination(A, b, prt = False):\n",
    "    n = len(b)\n",
    "\n",
    "    # forward elimination\n",
    "    resAmat = np.zeros((n, n))\n",
    "    resAmat[0, :] = A[0, :]\n",
    "    resbvec = np.zeros(n)\n",
    "    resbvec[0] = b[0]\n",
    "    for k in range(0, n-1):\n",
    "        for i in range(k+1, n):\n",
    "            factor = A[i, k] / A[k, k]\n",
    "            resAmat[i, k] = 0\n",
    "            for j in range(k+1, n):\n",
    "                A[i, j] =  A[i, j] - factor * A[k, j]\n",
    "                resAmat[i, j] = A[i, j]\n",
    "            b[i] = b[i] - factor * b[k]\n",
    "            resbvec[i] = b[i]\n",
    "\n",
    "    # for debugging\n",
    "    if (prt): \n",
    "        print(\"After conducting forward elimination:\")\n",
    "        PrintEqs(resAmat, resbvec)\n",
    "\n",
    "    # back-substitution\n",
    "    x = np.array([0, 0, 0])\n",
    "    x[n-1] = b[n-1] / A[n-1, n-1]\n",
    "    for i in range(n-1, -1, -1):\n",
    "        sumTemp = b[i]\n",
    "        for j in range(i + 1, n):\n",
    "            sumTemp = sumTemp - A[i, j]*x[j]\n",
    "        x[i] = (sumTemp) / A[i, i]\n",
    "\n",
    "    return x"
   ]
  },
  {
   "cell_type": "code",
   "execution_count": 28,
   "id": "2048c488-9849-4896-b119-e01c0649308e",
   "metadata": {},
   "outputs": [
    {
     "name": "stdout",
     "output_type": "stream",
     "text": [
      "After conducting forward elimination:\n",
      " 6.000e+00    -4.000e+00     1.000e+00    |   -1.400e+01\n",
      " 0.000e+00     3.333e+00    -3.333e+00    |    2.667e+01\n",
      " 0.000e+00     0.000e+00     2.500e+00    |    3.500e+01\n",
      " \n",
      "xGaussElim= [10 22 14]\n",
      "CrossCheck= [0. 0. 0.]\n",
      "GroundTruth, Xnp= [10. 22. 14.]\n"
     ]
    }
   ],
   "source": [
    "# assigning the matrix A\n",
    "A = np.array([[6.0, -4.0, 1.0],\n",
    "              [-4.0, 6.0, -4.0],\n",
    "              [1.0, -4.0, 6.0]])\n",
    "\n",
    "# assigning the vector B\n",
    "b = np.array([-14.0, 36.0, 6.0])\n",
    "\n",
    "# copying the original A matrix and b vector, important(independent deep copy)\n",
    "matA = A.copy()\n",
    "vecb = b.copy()\n",
    "\n",
    "# solving the linear equation, using Gauss elimination \n",
    "xGaussElim = GaussElimination(A, b, True) \n",
    "\n",
    "# for debugging\n",
    "print(\" \")\n",
    "print(\"xGaussElim=\", xGaussElim)\n",
    "print(\"CrossCheck=\", np.dot(matA, xGaussElim) - vecb)\n",
    "    \n",
    "# solving the linear equation, for calculating the ground truth result\n",
    "Xnp = np.linalg.solve(matA, vecb)\n",
    "\n",
    "# for debugging\n",
    "print(\"GroundTruth, Xnp=\", Xnp)"
   ]
  }
 ],
 "metadata": {
  "kernelspec": {
   "display_name": "Python 3 (ipykernel)",
   "language": "python",
   "name": "python3"
  },
  "language_info": {
   "codemirror_mode": {
    "name": "ipython",
    "version": 3
   },
   "file_extension": ".py",
   "mimetype": "text/x-python",
   "name": "python",
   "nbconvert_exporter": "python",
   "pygments_lexer": "ipython3",
   "version": "3.9.16"
  }
 },
 "nbformat": 4,
 "nbformat_minor": 5
}
